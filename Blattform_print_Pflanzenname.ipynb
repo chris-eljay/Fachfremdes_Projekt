{
 "cells": [
  {
   "cell_type": "code",
   "execution_count": 75,
   "metadata": {},
   "outputs": [
    {
     "name": "stdout",
     "output_type": "stream",
     "text": [
      "Welche Art von Pflanze (Iris Setosa, Iris Virginica oder Iris Versicolor)\n",
      "hat ein 3cm x 5cm Sepal und ein 4cm x 2cm Petal\n",
      "Antwort: Iris ['virginica']\n"
     ]
    }
   ],
   "source": [
    "from sklearn import neighbors, datasets\n",
    "iris = datasets.load_iris()\n",
    "X, y = iris.data, iris.target\n",
    "knn = neighbors.KNeighborsClassifier(n_neighbors=1)\n",
    "\n",
    "knn.fit(X, y)\n",
    "\n",
    "print(\"Welche Art von Pflanze (Iris Setosa, Iris Virginica oder Iris Versicolor)\")\n",
    "print(\"hat ein 3cm x 5cm Sepal und ein 4cm x 2cm Petal\")\n",
    "print(\"Antwort: Iris\",iris.target_names[knn.predict([[3, 5, 4, 2]])])"
   ]
  },
  {
   "cell_type": "code",
   "execution_count": 76,
   "metadata": {},
   "outputs": [
    {
     "name": "stdout",
     "output_type": "stream",
     "text": [
      "Welche Art von Pflanze (Iris Setosa, Iris Virginica oder Iris Versicolor)\n",
      "hat ein 4cm x 3cm Sepal und ein 6cm x 3cm Petal\n",
      "Antwort: Iris ['virginica']\n"
     ]
    }
   ],
   "source": [
    "print(\"Welche Art von Pflanze (Iris Setosa, Iris Virginica oder Iris Versicolor)\")\n",
    "print(\"hat ein 4cm x 3cm Sepal und ein 6cm x 3cm Petal\")\n",
    "print(\"Antwort: Iris\",iris.target_names[knn.predict([[4, 3, 6, 3]])])"
   ]
  },
  {
   "cell_type": "code",
   "execution_count": 77,
   "metadata": {},
   "outputs": [
    {
     "name": "stdout",
     "output_type": "stream",
     "text": [
      "Welche Art von Pflanze (Iris Setosa, Iris Virginica oder Iris Versicolor)\n",
      "hat ein 5cm x 4cm Sepal und ein 1cm x 0.2cm Petal\n",
      "Antwort: Iris ['setosa']\n"
     ]
    }
   ],
   "source": [
    "print(\"Welche Art von Pflanze (Iris Setosa, Iris Virginica oder Iris Versicolor)\")\n",
    "print(\"hat ein 5cm x 4cm Sepal und ein 1cm x 0.2cm Petal\")\n",
    "print(\"Antwort: Iris\",iris.target_names[knn.predict([[5, 4, 1, 0.2]])])"
   ]
  },
  {
   "cell_type": "code",
   "execution_count": 78,
   "metadata": {},
   "outputs": [
    {
     "name": "stdout",
     "output_type": "stream",
     "text": [
      "Welche Arte von Pflanze (Iris Setosa, Iris Virginica oder Iris Versicolor)\n",
      "hat ein 6.9cm x 3.1cm Sepal und ein 4.9cm x 1.5cm Petal\n",
      "Antwort: Iris ['versicolor']\n"
     ]
    }
   ],
   "source": [
    "print(\"Welche Arte von Pflanze (Iris Setosa, Iris Virginica oder Iris Versicolor)\")\n",
    "print(\"hat ein 6.9cm x 3.1cm Sepal und ein 4.9cm x 1.5cm Petal\")\n",
    "print(\"Antwort: Iris\",iris.target_names[knn.predict([[6.9, 3.1, 4.9, 1.5]])])\n",
    "\n",
    "\n"
   ]
  },
  {
   "cell_type": "code",
   "execution_count": 79,
   "metadata": {},
   "outputs": [
    {
     "name": "stdout",
     "output_type": "stream",
     "text": [
      "Welche Arte von Pflanze (Iris Setosa, Iris Virginica oder Iris Versicolor)\n",
      "hat ein 5cm x 3cm Sepal und ein 1cm x 0.1cm Petal\n",
      "Antwort: Iris ['versicolor']\n"
     ]
    }
   ],
   "source": [
    "print(\"Welche Arte von Pflanze (Iris Setosa, Iris Virginica oder Iris Versicolor)\")\n",
    "print(\"hat ein 5cm x 3cm Sepal und ein 1cm x 0.1cm Petal\")\n",
    "print(\"Antwort: Iris\",iris.target_names[knn.predict([[7, 3.2, 4.7, 1.4]])])\n"
   ]
  },
  {
   "cell_type": "code",
   "execution_count": null,
   "metadata": {},
   "outputs": [],
   "source": []
  }
 ],
 "metadata": {
  "kernelspec": {
   "display_name": "Python 3",
   "language": "python",
   "name": "python3"
  },
  "language_info": {
   "codemirror_mode": {
    "name": "ipython",
    "version": 3
   },
   "file_extension": ".py",
   "mimetype": "text/x-python",
   "name": "python",
   "nbconvert_exporter": "python",
   "pygments_lexer": "ipython3",
   "version": "3.7.0"
  }
 },
 "nbformat": 4,
 "nbformat_minor": 2
}
